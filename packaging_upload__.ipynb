{
 "cells": [
  {
   "cell_type": "markdown",
   "metadata": {},
   "source": [
    "# Upload package to PIP"
   ]
  },
  {
   "cell_type": "markdown",
   "metadata": {},
   "source": [
    "## Build the package"
   ]
  },
  {
   "cell_type": "code",
   "execution_count": 6,
   "metadata": {},
   "outputs": [
    {
     "name": "stdout",
     "output_type": "stream",
     "text": [
      "running sdist\n",
      "running egg_info\n",
      "writing plotsgrid.egg-info\\PKG-INFO\n",
      "writing dependency_links to plotsgrid.egg-info\\dependency_links.txt\n",
      "writing requirements to plotsgrid.egg-info\\requires.txt\n",
      "writing top-level names to plotsgrid.egg-info\\top_level.txt\n",
      "reading manifest file 'plotsgrid.egg-info\\SOURCES.txt'\n",
      "writing manifest file 'plotsgrid.egg-info\\SOURCES.txt'\n",
      "running check\n",
      "creating plotsgrid-0.1.0\n",
      "creating plotsgrid-0.1.0\\plotsgrid.egg-info\n",
      "copying files to plotsgrid-0.1.0...\n",
      "copying plotsgrid.egg-info\\PKG-INFO -> plotsgrid-0.1.0\\plotsgrid.egg-info\n",
      "copying plotsgrid.egg-info\\SOURCES.txt -> plotsgrid-0.1.0\\plotsgrid.egg-info\n",
      "copying plotsgrid.egg-info\\dependency_links.txt -> plotsgrid-0.1.0\\plotsgrid.egg-info\n",
      "copying plotsgrid.egg-info\\requires.txt -> plotsgrid-0.1.0\\plotsgrid.egg-info\n",
      "copying plotsgrid.egg-info\\top_level.txt -> plotsgrid-0.1.0\\plotsgrid.egg-info\n",
      "copying plotsgrid.egg-info\\SOURCES.txt -> plotsgrid-0.1.0\\plotsgrid.egg-info\n",
      "Writing plotsgrid-0.1.0\\setup.cfg\n",
      "Creating tar archive\n",
      "removing 'plotsgrid-0.1.0' (and everything under it)\n",
      "running bdist_wheel\n",
      "running build\n",
      "installing to build\\bdist.win-amd64\\wheel\n",
      "running install\n",
      "running install_egg_info\n",
      "Copying plotsgrid.egg-info to build\\bdist.win-amd64\\wheel\\.\\plotsgrid-0.1.0-py3.12.egg-info\n",
      "running install_scripts\n",
      "creating build\\bdist.win-amd64\\wheel\\plotsgrid-0.1.0.dist-info\\WHEEL\n",
      "creating 'dist\\plotsgrid-0.1.0-py3-none-any.whl' and adding 'build\\bdist.win-amd64\\wheel' to it\n",
      "adding 'plotsgrid-0.1.0.dist-info/METADATA'\n",
      "adding 'plotsgrid-0.1.0.dist-info/WHEEL'\n",
      "adding 'plotsgrid-0.1.0.dist-info/top_level.txt'\n",
      "adding 'plotsgrid-0.1.0.dist-info/RECORD'\n",
      "removing build\\bdist.win-amd64\\wheel\n"
     ]
    },
    {
     "name": "stderr",
     "output_type": "stream",
     "text": [
      "C:\\Users\\tiyas\\OneDrive\\Desktop\\python\\repos\\Plotsgrid\\Plotsgrid\\setup.py:8: SyntaxWarning: invalid escape sequence '\\R'\n",
      "  long_description=open('Plotsgrid\\README.md').read(),\n",
      "warning: sdist: standard file not found: should have one of README, README.rst, README.txt, README.md\n",
      "\n",
      "c:\\Users\\tiyas\\AppData\\Local\\Programs\\Python\\Python312\\Lib\\site-packages\\setuptools\\_distutils\\cmd.py:66: SetuptoolsDeprecationWarning: setup.py install is deprecated.\n",
      "!!\n",
      "\n",
      "        ********************************************************************************\n",
      "        Please avoid running ``setup.py`` directly.\n",
      "        Instead, use pypa/build, pypa/installer or other\n",
      "        standards-based tools.\n",
      "\n",
      "        See https://blog.ganssle.io/articles/2021/10/setup-py-deprecated.html for details.\n",
      "        ********************************************************************************\n",
      "\n",
      "!!\n",
      "  self.initialize_options()\n"
     ]
    }
   ],
   "source": [
    "#pip install setuptools wheel\n",
    "filepath=r\"C:\\Users\\tiyas\\OneDrive\\Desktop\\python\\repos\\Plotsgrid\\Plotsgrid\\setup.py\"\n",
    "!python {filepath} sdist bdist_wheel\n"
   ]
  },
  {
   "cell_type": "markdown",
   "metadata": {},
   "source": [
    "## Upload folder to PyPI"
   ]
  },
  {
   "cell_type": "code",
   "execution_count": 2,
   "metadata": {},
   "outputs": [
    {
     "name": "stderr",
     "output_type": "stream",
     "text": [
      "'twine' is not recognized as an internal or external command,\n",
      "operable program or batch file.\n"
     ]
    }
   ],
   "source": [
    "import twine\n",
    "!twine upload r\"C:\\Users\\tiyas\\OneDrive\\Desktop\\python\\repos\\Plotsgrid\\dist\\\"*\n"
   ]
  },
  {
   "cell_type": "code",
   "execution_count": 5,
   "metadata": {},
   "outputs": [
    {
     "name": "stdout",
     "output_type": "stream",
     "text": [
      "Requirement already satisfied: twine in c:\\users\\tiyas\\appdata\\local\\programs\\python\\python312\\lib\\site-packages (5.1.1)\n",
      "Requirement already satisfied: pkginfo>=1.8.1 in c:\\users\\tiyas\\appdata\\local\\programs\\python\\python312\\lib\\site-packages (from twine) (1.10.0)\n",
      "Requirement already satisfied: readme-renderer>=35.0 in c:\\users\\tiyas\\appdata\\local\\programs\\python\\python312\\lib\\site-packages (from twine) (44.0)\n",
      "Requirement already satisfied: requests>=2.20 in c:\\users\\tiyas\\appdata\\local\\programs\\python\\python312\\lib\\site-packages (from twine) (2.32.3)\n",
      "Requirement already satisfied: requests-toolbelt!=0.9.0,>=0.8.0 in c:\\users\\tiyas\\appdata\\local\\programs\\python\\python312\\lib\\site-packages (from twine) (1.0.0)\n",
      "Requirement already satisfied: urllib3>=1.26.0 in c:\\users\\tiyas\\appdata\\local\\programs\\python\\python312\\lib\\site-packages (from twine) (2.2.2)\n",
      "Requirement already satisfied: importlib-metadata>=3.6 in c:\\users\\tiyas\\appdata\\local\\programs\\python\\python312\\lib\\site-packages (from twine) (8.3.0)\n",
      "Requirement already satisfied: keyring>=15.1 in c:\\users\\tiyas\\appdata\\local\\programs\\python\\python312\\lib\\site-packages (from twine) (25.3.0)\n",
      "Requirement already satisfied: rfc3986>=1.4.0 in c:\\users\\tiyas\\appdata\\local\\programs\\python\\python312\\lib\\site-packages (from twine) (2.0.0)\n",
      "Requirement already satisfied: rich>=12.0.0 in c:\\users\\tiyas\\appdata\\local\\programs\\python\\python312\\lib\\site-packages (from twine) (13.7.1)\n",
      "Requirement already satisfied: zipp>=0.5 in c:\\users\\tiyas\\appdata\\local\\programs\\python\\python312\\lib\\site-packages (from importlib-metadata>=3.6->twine) (3.20.0)\n",
      "Requirement already satisfied: jaraco.classes in c:\\users\\tiyas\\appdata\\local\\programs\\python\\python312\\lib\\site-packages (from keyring>=15.1->twine) (3.4.0)\n",
      "Requirement already satisfied: jaraco.functools in c:\\users\\tiyas\\appdata\\local\\programs\\python\\python312\\lib\\site-packages (from keyring>=15.1->twine) (4.0.2)\n",
      "Requirement already satisfied: jaraco.context in c:\\users\\tiyas\\appdata\\local\\programs\\python\\python312\\lib\\site-packages (from keyring>=15.1->twine) (6.0.1)\n",
      "Requirement already satisfied: pywin32-ctypes>=0.2.0 in c:\\users\\tiyas\\appdata\\local\\programs\\python\\python312\\lib\\site-packages (from keyring>=15.1->twine) (0.2.3)\n",
      "Requirement already satisfied: nh3>=0.2.14 in c:\\users\\tiyas\\appdata\\local\\programs\\python\\python312\\lib\\site-packages (from readme-renderer>=35.0->twine) (0.2.18)\n",
      "Requirement already satisfied: docutils>=0.21.2 in c:\\users\\tiyas\\appdata\\local\\programs\\python\\python312\\lib\\site-packages (from readme-renderer>=35.0->twine) (0.21.2)\n",
      "Requirement already satisfied: Pygments>=2.5.1 in c:\\users\\tiyas\\appdata\\roaming\\python\\python312\\site-packages (from readme-renderer>=35.0->twine) (2.18.0)\n",
      "Requirement already satisfied: charset-normalizer<4,>=2 in c:\\users\\tiyas\\appdata\\local\\programs\\python\\python312\\lib\\site-packages (from requests>=2.20->twine) (3.3.2)\n",
      "Requirement already satisfied: idna<4,>=2.5 in c:\\users\\tiyas\\appdata\\local\\programs\\python\\python312\\lib\\site-packages (from requests>=2.20->twine) (3.7)\n",
      "Requirement already satisfied: certifi>=2017.4.17 in c:\\users\\tiyas\\appdata\\local\\programs\\python\\python312\\lib\\site-packages (from requests>=2.20->twine) (2024.7.4)\n",
      "Requirement already satisfied: markdown-it-py>=2.2.0 in c:\\users\\tiyas\\appdata\\local\\programs\\python\\python312\\lib\\site-packages (from rich>=12.0.0->twine) (3.0.0)\n",
      "Requirement already satisfied: mdurl~=0.1 in c:\\users\\tiyas\\appdata\\local\\programs\\python\\python312\\lib\\site-packages (from markdown-it-py>=2.2.0->rich>=12.0.0->twine) (0.1.2)\n",
      "Requirement already satisfied: more-itertools in c:\\users\\tiyas\\appdata\\local\\programs\\python\\python312\\lib\\site-packages (from jaraco.classes->keyring>=15.1->twine) (10.4.0)\n",
      "Note: you may need to restart the kernel to use updated packages.\n"
     ]
    }
   ],
   "source": [
    "pip install twine"
   ]
  },
  {
   "cell_type": "code",
   "execution_count": null,
   "metadata": {},
   "outputs": [],
   "source": []
  }
 ],
 "metadata": {
  "kernelspec": {
   "display_name": "Python 3",
   "language": "python",
   "name": "python3"
  },
  "language_info": {
   "codemirror_mode": {
    "name": "ipython",
    "version": 3
   },
   "file_extension": ".py",
   "mimetype": "text/x-python",
   "name": "python",
   "nbconvert_exporter": "python",
   "pygments_lexer": "ipython3",
   "version": "3.12.4"
  }
 },
 "nbformat": 4,
 "nbformat_minor": 2
}
