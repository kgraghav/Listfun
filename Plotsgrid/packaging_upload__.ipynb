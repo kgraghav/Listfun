{
 "cells": [
  {
   "cell_type": "markdown",
   "metadata": {},
   "source": [
    "# Upload package to PIP"
   ]
  },
  {
   "cell_type": "markdown",
   "metadata": {},
   "source": [
    "## Build the package"
   ]
  },
  {
   "cell_type": "code",
   "execution_count": 2,
   "metadata": {},
   "outputs": [
    {
     "name": "stdout",
     "output_type": "stream",
     "text": [
      "Requirement already satisfied: setuptools in c:\\users\\tiyas\\appdata\\local\\programs\\python\\python312\\lib\\site-packages (70.2.0)Note: you may need to restart the kernel to use updated packages.\n",
      "\n"
     ]
    }
   ],
   "source": [
    "pip install setuptools"
   ]
  },
  {
   "cell_type": "code",
   "execution_count": 7,
   "metadata": {},
   "outputs": [
    {
     "name": "stderr",
     "output_type": "stream",
     "text": [
      "C:\\Users\\tiyas\\OneDrive\\Desktop\\python\\repos\\Plotsgrid\\Plotsgrid\\setup.py:8: SyntaxWarning: invalid escape sequence '\\R'\n",
      "  long_description=open('Plotsgrid\\README.md').read(),\n",
      "Traceback (most recent call last):\n",
      "  File \"C:\\Users\\tiyas\\OneDrive\\Desktop\\python\\repos\\Plotsgrid\\Plotsgrid\\setup.py\", line 8, in <module>\n",
      "    long_description=open('Plotsgrid\\README.md').read(),\n",
      "C:\\Users\\tiyas\\OneDrive\\Desktop\\python\\repos\\Plotsgrid\\Plotsgrid\\setup.py:1: SyntaxWarning: invalid escape sequence '\\R'\n",
      "  from setuptools import setup, find_packages\n",
      "                     ^^^^^^^^^^^^^^^^^^^^^^^^^^^\n",
      "FileNotFoundError: [Errno 2] No such file or directory: 'Plotsgrid\\\\README.md'\n"
     ]
    }
   ],
   "source": [
    "#pip install setuptools wheel\n",
    "filepath=r\"C:\\Users\\tiyas\\OneDrive\\Desktop\\python\\repos\\Plotsgrid\\Plotsgrid\\setup.py\"\n",
    "!python {filepath} sdist bdist_wheel\n"
   ]
  },
  {
   "cell_type": "markdown",
   "metadata": {},
   "source": [
    "## Upload folder to PyPI"
   ]
  },
  {
   "cell_type": "code",
   "execution_count": 7,
   "metadata": {},
   "outputs": [
    {
     "name": "stderr",
     "output_type": "stream",
     "text": [
      "'twine' is not recognized as an internal or external command,\n",
      "operable program or batch file.\n"
     ]
    }
   ],
   "source": [
    "import twine\n",
    "!twine upload dist/*\n"
   ]
  },
  {
   "cell_type": "code",
   "execution_count": null,
   "metadata": {},
   "outputs": [],
   "source": []
  }
 ],
 "metadata": {
  "kernelspec": {
   "display_name": "Python 3",
   "language": "python",
   "name": "python3"
  },
  "language_info": {
   "codemirror_mode": {
    "name": "ipython",
    "version": 3
   },
   "file_extension": ".py",
   "mimetype": "text/x-python",
   "name": "python",
   "nbconvert_exporter": "python",
   "pygments_lexer": "ipython3",
   "version": "3.12.4"
  }
 },
 "nbformat": 4,
 "nbformat_minor": 2
}
